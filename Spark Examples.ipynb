{
 "cells": [
  {
   "cell_type": "markdown",
   "metadata": {
    "collapsed": true
   },
   "source": [
    "# Spark Examples\n",
    "\n",
    "This notebook demonstrates some examples of functionality in Spark.  It's meant to be run on a local machine, but could easily be adapted to run on an actual cluster."
   ]
  },
  {
   "cell_type": "markdown",
   "metadata": {},
   "source": [
    "## Starting Spark\n",
    "\n",
    "This section shows how we start a `SparkContext`, which is the entry point into all Spark operations.  Setting the `master` to `local[*]` tells Spark to run in local mode and to use all available cores."
   ]
  },
  {
   "cell_type": "code",
   "execution_count": 1,
   "metadata": {},
   "outputs": [],
   "source": [
    "from pyspark import SparkContext\n",
    "\n",
    "sc = SparkContext(master='local[*]', appName='example')"
   ]
  },
  {
   "cell_type": "markdown",
   "metadata": {},
   "source": [
    "## Reading Data as an RDD\n",
    "\n",
    "In my previous presentation on Pandas, I used a dataset about crime in NJ per county.  I'll use that same dataset here."
   ]
  },
  {
   "cell_type": "code",
   "execution_count": 3,
   "metadata": {},
   "outputs": [
    {
     "data": {
      "text/plain": [
       "487"
      ]
     },
     "execution_count": 3,
     "metadata": {},
     "output_type": "execute_result"
    }
   ],
   "source": [
    "rdd = sc.textFile('./new-jersey-crime.csv')\n",
    "rdd.count()"
   ]
  },
  {
   "cell_type": "code",
   "execution_count": 4,
   "metadata": {},
   "outputs": [
    {
     "data": {
      "text/plain": [
       "['Belleville,36258,62,0,3,32,27,600,93,419,88,1',\n",
       " 'Buena,4520,19,0,4,7,8,77,21,54,2,1',\n",
       " 'Cinnaminson Township,16871,25,0,3,7,15,305,38,258,9,0',\n",
       " 'Closter,8674,2,1,1,0,0,34,6,27,1,0',\n",
       " 'Deal,735,1,0,0,0,1,32,9,23,0,0',\n",
       " 'Delanco Township,4592,5,0,0,4,1,97,22,68,7,0',\n",
       " 'Eatontown,12264,39,0,3,17,19,401,34,363,4,0',\n",
       " 'Edgewater,12079,4,0,1,1,2,141,12,128,1,0',\n",
       " 'Englewood,28677,61,0,8,19,34,325,47,267,11,0',\n",
       " 'Fairview,14497,15,0,1,10,4,118,26,83,9,0',\n",
       " 'Haworth,3469,2,0,0,0,2,15,2,13,0,0',\n",
       " 'Jamesburg,6028,6,0,2,3,1,51,16,32,3,0',\n",
       " 'Jersey City,266179,1276,24,86,547,619,4483,953,2979,551,40',\n",
       " 'Lavallette,1789,1,0,0,0,1,29,7,22,0,1',\n",
       " 'Linden,42100,136,0,19,39,78,982,123,785,74,1',\n",
       " 'Manalapan Township,40407,27,0,4,4,19,241,39,195,7,0',\n",
       " '\"Mansfield Township, Warren County\",7461,2,0,0,1,1,125,12,111,2,0',\n",
       " 'Middletown Township,65919,17,0,3,4,10,436,62,364,10,1',\n",
       " 'New Hanover Township,8218,2,0,0,1,1,4,3,1,0,0',\n",
       " 'Pennington,2586,0,0,0,0,0,8,1,7,0,0',\n",
       " 'Perth Amboy,52767,210,0,7,68,135,806,185,534,87,4',\n",
       " 'Pine Valley,12,0,0,0,0,0,0,0,0,0,0',\n",
       " 'West Orange,47374,106,0,17,37,52,843,119,650,74,2']"
      ]
     },
     "execution_count": 4,
     "metadata": {},
     "output_type": "execute_result"
    }
   ],
   "source": [
    "rdd.sample(False, 0.05).collect()"
   ]
  },
  {
   "cell_type": "code",
   "execution_count": 6,
   "metadata": {},
   "outputs": [
    {
     "data": {
      "text/plain": [
       "[['Bradley Beach', '4261', '6', '0', '0', '3', '3', '79', '7', '72', '0', '0'],\n",
       " ['Deal', '735', '1', '0', '0', '0', '1', '32', '9', '23', '0', '0'],\n",
       " ['Egg Harbor Township',\n",
       "  '43971',\n",
       "  '86',\n",
       "  '1',\n",
       "  '13',\n",
       "  '21',\n",
       "  '51',\n",
       "  '746',\n",
       "  '166',\n",
       "  '555',\n",
       "  '25',\n",
       "  '5'],\n",
       " ['Franklin Lakes',\n",
       "  '10902',\n",
       "  '5',\n",
       "  '0',\n",
       "  '0',\n",
       "  '3',\n",
       "  '2',\n",
       "  '75',\n",
       "  '13',\n",
       "  '56',\n",
       "  '6',\n",
       "  '0'],\n",
       " ['Hackettstown', '9549', '8', '0', '0', '2', '6', '94', '14', '77', '3', '0'],\n",
       " ['Harvey Cedars', '340', '0', '0', '0', '0', '0', '14', '0', '14', '0', '0'],\n",
       " ['Highlands', '4838', '8', '0', '0', '2', '6', '22', '4', '17', '1', '0'],\n",
       " ['Hopatcong', '14388', '7', '0', '0', '0', '7', '104', '25', '79', '0', '1'],\n",
       " ['Leonia', '9224', '2', '0', '0', '0', '2', '47', '14', '27', '6', '0'],\n",
       " ['Lumberton Township',\n",
       "  '12400',\n",
       "  '17',\n",
       "  '2',\n",
       "  '1',\n",
       "  '6',\n",
       "  '8',\n",
       "  '217',\n",
       "  '16',\n",
       "  '193',\n",
       "  '8',\n",
       "  '1'],\n",
       " ['Manville',\n",
       "  '10424',\n",
       "  '11',\n",
       "  '0',\n",
       "  '2',\n",
       "  '2',\n",
       "  '7',\n",
       "  '265',\n",
       "  '34',\n",
       "  '214',\n",
       "  '17',\n",
       "  '1'],\n",
       " ['Marlboro Township',\n",
       "  '40764',\n",
       "  '10',\n",
       "  '0',\n",
       "  '1',\n",
       "  '2',\n",
       "  '7',\n",
       "  '243',\n",
       "  '25',\n",
       "  '202',\n",
       "  '16',\n",
       "  '0'],\n",
       " ['Middletown Township',\n",
       "  '65919',\n",
       "  '17',\n",
       "  '0',\n",
       "  '3',\n",
       "  '4',\n",
       "  '10',\n",
       "  '436',\n",
       "  '62',\n",
       "  '364',\n",
       "  '10',\n",
       "  '1'],\n",
       " ['Morris Township',\n",
       "  '22555',\n",
       "  '8',\n",
       "  '0',\n",
       "  '0',\n",
       "  '1',\n",
       "  '7',\n",
       "  '131',\n",
       "  '20',\n",
       "  '106',\n",
       "  '5',\n",
       "  '0'],\n",
       " ['National Park',\n",
       "  '2975',\n",
       "  '5',\n",
       "  '0',\n",
       "  '0',\n",
       "  '2',\n",
       "  '3',\n",
       "  '43',\n",
       "  '17',\n",
       "  '25',\n",
       "  '1',\n",
       "  '1'],\n",
       " ['Norwood', '5869', '1', '0', '0', '1', '0', '13', '0', '13', '0', '0'],\n",
       " ['Ocean City',\n",
       "  '11287',\n",
       "  '14',\n",
       "  '0',\n",
       "  '1',\n",
       "  '5',\n",
       "  '8',\n",
       "  '364',\n",
       "  '58',\n",
       "  '306',\n",
       "  '0',\n",
       "  '1'],\n",
       " ['Peapack and Gladstone',\n",
       "  '2603',\n",
       "  '0',\n",
       "  '0',\n",
       "  '0',\n",
       "  '0',\n",
       "  '0',\n",
       "  '27',\n",
       "  '13',\n",
       "  '12',\n",
       "  '2',\n",
       "  '1'],\n",
       " ['Phillipsburg',\n",
       "  '14435',\n",
       "  '29',\n",
       "  '0',\n",
       "  '4',\n",
       "  '14',\n",
       "  '11',\n",
       "  '300',\n",
       "  '68',\n",
       "  '218',\n",
       "  '14',\n",
       "  '1'],\n",
       " ['Pine Hill',\n",
       "  '10514',\n",
       "  '21',\n",
       "  '0',\n",
       "  '2',\n",
       "  '8',\n",
       "  '11',\n",
       "  '192',\n",
       "  '52',\n",
       "  '125',\n",
       "  '15',\n",
       "  '2'],\n",
       " ['Point Pleasant Beach',\n",
       "  '4519',\n",
       "  '3',\n",
       "  '0',\n",
       "  '0',\n",
       "  '2',\n",
       "  '1',\n",
       "  '106',\n",
       "  '10',\n",
       "  '92',\n",
       "  '4',\n",
       "  '1'],\n",
       " ['Ridgewood', '25617', '7', '0', '0', '3', '4', '205', '32', '171', '2', '0'],\n",
       " ['Roselle Park',\n",
       "  '13669',\n",
       "  '5',\n",
       "  '0',\n",
       "  '3',\n",
       "  '1',\n",
       "  '1',\n",
       "  '146',\n",
       "  '34',\n",
       "  '102',\n",
       "  '10',\n",
       "  '1'],\n",
       " ['Rutherford',\n",
       "  '18717',\n",
       "  '13',\n",
       "  '0',\n",
       "  '0',\n",
       "  '2',\n",
       "  '11',\n",
       "  '204',\n",
       "  '29',\n",
       "  '168',\n",
       "  '7',\n",
       "  '1'],\n",
       " ['Weehawken Township',\n",
       "  '14284',\n",
       "  '15',\n",
       "  '0',\n",
       "  '1',\n",
       "  '3',\n",
       "  '11',\n",
       "  '285',\n",
       "  '35',\n",
       "  '229',\n",
       "  '21',\n",
       "  '0'],\n",
       " ['West Deptford Township',\n",
       "  '21257',\n",
       "  '16',\n",
       "  '2',\n",
       "  '0',\n",
       "  '7',\n",
       "  '7',\n",
       "  '271',\n",
       "  '65',\n",
       "  '193',\n",
       "  '13',\n",
       "  '1'],\n",
       " ['Winfield Township',\n",
       "  '1509',\n",
       "  '0',\n",
       "  '0',\n",
       "  '0',\n",
       "  '0',\n",
       "  '0',\n",
       "  '17',\n",
       "  '6',\n",
       "  '9',\n",
       "  '2',\n",
       "  '0'],\n",
       " ['Woodstown', '3529', '3', '0', '1', '1', '1', '48', '20', '27', '1', '0']]"
      ]
     },
     "execution_count": 6,
     "metadata": {},
     "output_type": "execute_result"
    }
   ],
   "source": [
    "rdd.map(lambda x: x.split(',')).sample(False, 0.05).collect()"
   ]
  },
  {
   "cell_type": "markdown",
   "metadata": {},
   "source": [
    "You can do all kinds of interesting things with RDDs.  If we wanted to, we could properly parse this data, do maps, reduces, joins, etc.  This is super useful when our data comes in a format that Spark does't understand.  For instance, I once had to read in a bunch of Excel files.  Since Spark doesn't understand Excel, I read them in as a RDD of binary blobs and used mapper functions to parse each one and to emit the contents.  The approach in the article is a bit dated, but you can [read it here](http://brianstempin.com/2017/10/05/dealing-with-excel-data-in-pyspark/)."
   ]
  },
  {
   "cell_type": "markdown",
   "metadata": {},
   "source": [
    "## DataFrame and DataSet Operations\n",
    "\n",
    "The `DataFrame` builds on top of the RDD and provides something that looks and feels like a table with records, columns, and aggregate functions.  If you are working in a strongly typed language like Scala, `DataSet`s build on this by offering type enforcement for `DataFrame`s.\n",
    "\n",
    "To use `DataFrame` functionality, we need to start a `SparkSession`, which is the main entry point for the higher-level Spark functionality."
   ]
  },
  {
   "cell_type": "code",
   "execution_count": 15,
   "metadata": {},
   "outputs": [],
   "source": [
    "from pyspark.sql import SparkSession\n",
    "\n",
    "spark = SparkSession(sc)\n",
    "spark.conf.set(\"spark.sql.repl.eagerEval.enabled\", True)"
   ]
  },
  {
   "cell_type": "code",
   "execution_count": 18,
   "metadata": {},
   "outputs": [
    {
     "data": {
      "text/plain": [
       "[Row(City='Aberdeen Township', Population=18562, Violent Crime=18, Murder=0, Rape=2, Robbery=5, Aggravated Assault=11, Property Crime=147, Burglary=33, Larceny-theft=106, Motor Vehicle Theft=8, Arson=0),\n",
       " Row(City='Absecon', Population=8298, Violent Crime=8, Murder=0, Rape=0, Robbery=2, Aggravated Assault=6, Property Crime=242, Burglary=33, Larceny-theft=203, Motor Vehicle Theft=6, Arson=0),\n",
       " Row(City='Allendale', Population=6849, Violent Crime=1, Murder=0, Rape=0, Robbery=0, Aggravated Assault=1, Property Crime=37, Burglary=9, Larceny-theft=26, Motor Vehicle Theft=2, Arson=0),\n",
       " Row(City='Allenhurst', Population=490, Violent Crime=0, Murder=0, Rape=0, Robbery=0, Aggravated Assault=0, Property Crime=16, Burglary=1, Larceny-theft=15, Motor Vehicle Theft=0, Arson=0),\n",
       " Row(City='Allentown', Population=1824, Violent Crime=1, Murder=0, Rape=0, Robbery=0, Aggravated Assault=1, Property Crime=9, Burglary=3, Larceny-theft=6, Motor Vehicle Theft=0, Arson=0),\n",
       " Row(City='Alpha', Population=2291, Violent Crime=1, Murder=0, Rape=0, Robbery=0, Aggravated Assault=1, Property Crime=15, Burglary=3, Larceny-theft=11, Motor Vehicle Theft=1, Arson=1),\n",
       " Row(City='Alpine', Population=1918, Violent Crime=0, Murder=0, Rape=0, Robbery=0, Aggravated Assault=0, Property Crime=9, Burglary=2, Larceny-theft=6, Motor Vehicle Theft=1, Arson=0),\n",
       " Row(City='Andover Township', Population=5979, Violent Crime=6, Murder=0, Rape=0, Robbery=0, Aggravated Assault=6, Property Crime=35, Burglary=2, Larceny-theft=29, Motor Vehicle Theft=4, Arson=0),\n",
       " Row(City='Asbury Park', Population=15757, Violent Crime=223, Murder=2, Rape=7, Robbery=101, Aggravated Assault=113, Property Crime=723, Burglary=145, Larceny-theft=557, Motor Vehicle Theft=21, Arson=4),\n",
       " Row(City='Atlantic Highlands', Population=4297, Violent Crime=3, Murder=0, Rape=0, Robbery=1, Aggravated Assault=2, Property Crime=34, Burglary=4, Larceny-theft=30, Motor Vehicle Theft=0, Arson=0)]"
      ]
     },
     "execution_count": 18,
     "metadata": {},
     "output_type": "execute_result"
    }
   ],
   "source": [
    "df = spark.read.csv('./new-jersey-crime.csv', header=True, inferSchema=True)\n",
    "df.head(10)"
   ]
  },
  {
   "cell_type": "code",
   "execution_count": 17,
   "metadata": {},
   "outputs": [
    {
     "data": {
      "text/html": [
       "<table border='1'>\n",
       "<tr><th>summary</th><th>City</th><th>Population</th><th>Violent Crime</th><th>Murder</th><th>Rape</th><th>Robbery</th><th>Aggravated Assault</th><th>Property Crime</th><th>Burglary</th><th>Larceny-theft</th><th>Motor Vehicle Theft</th><th>Arson</th></tr>\n",
       "<tr><td>count</td><td>486</td><td>486</td><td>486</td><td>486</td><td>486</td><td>486</td><td>486</td><td>486</td><td>486</td><td>486</td><td>486</td><td>486</td></tr>\n",
       "<tr><td>mean</td><td>null</td><td>17655.62962962963</td><td>39.2962962962963</td><td>0.6296296296296297</td><td>2.5925925925925926</td><td>16.551440329218106</td><td>19.522633744855966</td><td>262.25925925925924</td><td>47.90534979423868</td><td>192.68312757201647</td><td>21.670781893004115</td><td>0.9444444444444444</td></tr>\n",
       "<tr><td>stddev</td><td>null</td><td>25480.58278814219</td><td>165.79395567641058</td><td>4.921095622987243</td><td>7.966338114549649</td><td>79.97244646625155</td><td>75.17629110556926</td><td>517.341270708231</td><td>109.36049953213738</td><td>329.5755383327342</td><td>114.84333860913543</td><td>3.220904656167848</td></tr>\n",
       "<tr><td>min</td><td>Aberdeen Township</td><td>5</td><td>0</td><td>0</td><td>0</td><td>0</td><td>0</td><td>0</td><td>0</td><td>0</td><td>0</td><td>0</td></tr>\n",
       "<tr><td>25%</td><td>null</td><td>4654</td><td>2</td><td>0</td><td>0</td><td>0</td><td>1</td><td>40</td><td>6</td><td>30</td><td>1</td><td>0</td></tr>\n",
       "<tr><td>50%</td><td>null</td><td>9483</td><td>6</td><td>0</td><td>0</td><td>2</td><td>3</td><td>101</td><td>17</td><td>80</td><td>4</td><td>0</td></tr>\n",
       "<tr><td>75%</td><td>null</td><td>21669</td><td>21</td><td>0</td><td>2</td><td>7</td><td>11</td><td>265</td><td>45</td><td>211</td><td>11</td><td>1</td></tr>\n",
       "<tr><td>max</td><td>Wyckoff Township</td><td>281450</td><td>2637</td><td>100</td><td>99</td><td>1334</td><td>1104</td><td>6308</td><td>1138</td><td>3048</td><td>2122</td><td>41</td></tr>\n",
       "</table>\n"
      ],
      "text/plain": [
       "+-------+-----------------+-----------------+------------------+------------------+------------------+------------------+------------------+------------------+------------------+------------------+-------------------+------------------+\n",
       "|summary|             City|       Population|     Violent Crime|            Murder|              Rape|           Robbery|Aggravated Assault|    Property Crime|          Burglary|     Larceny-theft|Motor Vehicle Theft|             Arson|\n",
       "+-------+-----------------+-----------------+------------------+------------------+------------------+------------------+------------------+------------------+------------------+------------------+-------------------+------------------+\n",
       "|  count|              486|              486|               486|               486|               486|               486|               486|               486|               486|               486|                486|               486|\n",
       "|   mean|             null|17655.62962962963|  39.2962962962963|0.6296296296296297|2.5925925925925926|16.551440329218106|19.522633744855966|262.25925925925924| 47.90534979423868|192.68312757201647| 21.670781893004115|0.9444444444444444|\n",
       "| stddev|             null|25480.58278814219|165.79395567641058| 4.921095622987243| 7.966338114549649| 79.97244646625155| 75.17629110556926|  517.341270708231|109.36049953213738| 329.5755383327342| 114.84333860913543| 3.220904656167848|\n",
       "|    min|Aberdeen Township|                5|                 0|                 0|                 0|                 0|                 0|                 0|                 0|                 0|                  0|                 0|\n",
       "|    25%|             null|             4654|                 2|                 0|                 0|                 0|                 1|                40|                 6|                30|                  1|                 0|\n",
       "|    50%|             null|             9483|                 6|                 0|                 0|                 2|                 3|               101|                17|                80|                  4|                 0|\n",
       "|    75%|             null|            21669|                21|                 0|                 2|                 7|                11|               265|                45|               211|                 11|                 1|\n",
       "|    max| Wyckoff Township|           281450|              2637|               100|                99|              1334|              1104|              6308|              1138|              3048|               2122|                41|\n",
       "+-------+-----------------+-----------------+------------------+------------------+------------------+------------------+------------------+------------------+------------------+------------------+-------------------+------------------+"
      ]
     },
     "execution_count": 17,
     "metadata": {},
     "output_type": "execute_result"
    }
   ],
   "source": [
    "df.summary()"
   ]
  },
  {
   "cell_type": "code",
   "execution_count": 19,
   "metadata": {},
   "outputs": [
    {
     "data": {
      "text/html": [
       "<table border='1'>\n",
       "<tr><th>sum(Population)</th></tr>\n",
       "<tr><td>8580636</td></tr>\n",
       "</table>\n"
      ],
      "text/plain": [
       "+---------------+\n",
       "|sum(Population)|\n",
       "+---------------+\n",
       "|        8580636|\n",
       "+---------------+"
      ]
     },
     "execution_count": 19,
     "metadata": {},
     "output_type": "execute_result"
    }
   ],
   "source": [
    "df.groupBy().sum('Population')"
   ]
  },
  {
   "cell_type": "code",
   "execution_count": 20,
   "metadata": {},
   "outputs": [
    {
     "data": {
      "text/html": [
       "<table border='1'>\n",
       "<tr><th>sum(Robbery)</th></tr>\n",
       "<tr><td>8044</td></tr>\n",
       "</table>\n"
      ],
      "text/plain": [
       "+------------+\n",
       "|sum(Robbery)|\n",
       "+------------+\n",
       "|        8044|\n",
       "+------------+"
      ]
     },
     "execution_count": 20,
     "metadata": {},
     "output_type": "execute_result"
    }
   ],
   "source": [
    "df.groupBy().sum('Robbery')"
   ]
  },
  {
   "cell_type": "code",
   "execution_count": 22,
   "metadata": {},
   "outputs": [
    {
     "data": {
      "text/html": [
       "<table border='1'>\n",
       "<tr><th>City</th><th>Population</th><th>Violent Crime</th><th>Murder</th><th>Rape</th><th>Robbery</th><th>Aggravated Assault</th><th>Property Crime</th><th>Burglary</th><th>Larceny-theft</th><th>Motor Vehicle Theft</th><th>Arson</th></tr>\n",
       "<tr><td>Brick Township</td><td>74818</td><td>71</td><td>0</td><td>11</td><td>18</td><td>42</td><td>1059</td><td>180</td><td>861</td><td>18</td><td>1</td></tr>\n",
       "<tr><td>Bridgeton</td><td>24982</td><td>225</td><td>4</td><td>13</td><td>113</td><td>95</td><td>952</td><td>269</td><td>649</td><td>34</td><td>5</td></tr>\n",
       "<tr><td>Cherry Hill Township</td><td>71079</td><td>92</td><td>1</td><td>2</td><td>49</td><td>40</td><td>1949</td><td>216</td><td>1678</td><td>55</td><td>1</td></tr>\n",
       "<tr><td>Clifton</td><td>86324</td><td>202</td><td>0</td><td>7</td><td>83</td><td>112</td><td>1308</td><td>202</td><td>991</td><td>115</td><td>1</td></tr>\n",
       "<tr><td>Deptford Township</td><td>30400</td><td>61</td><td>0</td><td>7</td><td>30</td><td>24</td><td>1170</td><td>193</td><td>943</td><td>34</td><td>5</td></tr>\n",
       "<tr><td>East Orange</td><td>64787</td><td>437</td><td>6</td><td>22</td><td>179</td><td>230</td><td>898</td><td>205</td><td>462</td><td>231</td><td>10</td></tr>\n",
       "<tr><td>Edison Township</td><td>102679</td><td>104</td><td>0</td><td>7</td><td>37</td><td>60</td><td>1088</td><td>165</td><td>844</td><td>79</td><td>1</td></tr>\n",
       "<tr><td>Egg Harbor Township</td><td>43971</td><td>86</td><td>1</td><td>13</td><td>21</td><td>51</td><td>746</td><td>166</td><td>555</td><td>25</td><td>5</td></tr>\n",
       "<tr><td>Elizabeth</td><td>129096</td><td>1054</td><td>5</td><td>33</td><td>528</td><td>488</td><td>4134</td><td>730</td><td>2536</td><td>868</td><td>5</td></tr>\n",
       "<tr><td>Franklin Township...</td><td>66791</td><td>62</td><td>1</td><td>10</td><td>37</td><td>14</td><td>791</td><td>190</td><td>570</td><td>31</td><td>2</td></tr>\n",
       "<tr><td>Galloway Township</td><td>37280</td><td>90</td><td>0</td><td>5</td><td>14</td><td>71</td><td>591</td><td>168</td><td>408</td><td>15</td><td>3</td></tr>\n",
       "<tr><td>Gloucester Township</td><td>63484</td><td>87</td><td>1</td><td>8</td><td>23</td><td>55</td><td>1036</td><td>171</td><td>822</td><td>43</td><td>0</td></tr>\n",
       "<tr><td>Hamilton Township...</td><td>88665</td><td>162</td><td>1</td><td>10</td><td>85</td><td>66</td><td>1516</td><td>320</td><td>1108</td><td>88</td><td>5</td></tr>\n",
       "<tr><td>Irvington</td><td>54430</td><td>509</td><td>4</td><td>25</td><td>284</td><td>196</td><td>1258</td><td>332</td><td>559</td><td>367</td><td>17</td></tr>\n",
       "<tr><td>Jersey City</td><td>266179</td><td>1276</td><td>24</td><td>86</td><td>547</td><td>619</td><td>4483</td><td>953</td><td>2979</td><td>551</td><td>40</td></tr>\n",
       "<tr><td>Lakewood Township</td><td>100269</td><td>169</td><td>2</td><td>12</td><td>61</td><td>94</td><td>949</td><td>193</td><td>718</td><td>38</td><td>7</td></tr>\n",
       "<tr><td>Millville</td><td>28177</td><td>223</td><td>4</td><td>22</td><td>82</td><td>115</td><td>1714</td><td>304</td><td>1352</td><td>58</td><td>3</td></tr>\n",
       "<tr><td>Newark</td><td>281450</td><td>2637</td><td>100</td><td>99</td><td>1334</td><td>1104</td><td>6308</td><td>1138</td><td>3048</td><td>2122</td><td>41</td></tr>\n",
       "<tr><td>New Brunswick</td><td>57158</td><td>392</td><td>1</td><td>38</td><td>211</td><td>142</td><td>1252</td><td>319</td><td>859</td><td>74</td><td>15</td></tr>\n",
       "<tr><td>Orange</td><td>30470</td><td>342</td><td>11</td><td>11</td><td>210</td><td>110</td><td>843</td><td>198</td><td>417</td><td>228</td><td>5</td></tr>\n",
       "</table>\n",
       "only showing top 20 rows\n"
      ],
      "text/plain": [
       "+--------------------+----------+-------------+------+----+-------+------------------+--------------+--------+-------------+-------------------+-----+\n",
       "|                City|Population|Violent Crime|Murder|Rape|Robbery|Aggravated Assault|Property Crime|Burglary|Larceny-theft|Motor Vehicle Theft|Arson|\n",
       "+--------------------+----------+-------------+------+----+-------+------------------+--------------+--------+-------------+-------------------+-----+\n",
       "|      Brick Township|     74818|           71|     0|  11|     18|                42|          1059|     180|          861|                 18|    1|\n",
       "|           Bridgeton|     24982|          225|     4|  13|    113|                95|           952|     269|          649|                 34|    5|\n",
       "|Cherry Hill Township|     71079|           92|     1|   2|     49|                40|          1949|     216|         1678|                 55|    1|\n",
       "|             Clifton|     86324|          202|     0|   7|     83|               112|          1308|     202|          991|                115|    1|\n",
       "|   Deptford Township|     30400|           61|     0|   7|     30|                24|          1170|     193|          943|                 34|    5|\n",
       "|         East Orange|     64787|          437|     6|  22|    179|               230|           898|     205|          462|                231|   10|\n",
       "|     Edison Township|    102679|          104|     0|   7|     37|                60|          1088|     165|          844|                 79|    1|\n",
       "| Egg Harbor Township|     43971|           86|     1|  13|     21|                51|           746|     166|          555|                 25|    5|\n",
       "|           Elizabeth|    129096|         1054|     5|  33|    528|               488|          4134|     730|         2536|                868|    5|\n",
       "|Franklin Township...|     66791|           62|     1|  10|     37|                14|           791|     190|          570|                 31|    2|\n",
       "|   Galloway Township|     37280|           90|     0|   5|     14|                71|           591|     168|          408|                 15|    3|\n",
       "| Gloucester Township|     63484|           87|     1|   8|     23|                55|          1036|     171|          822|                 43|    0|\n",
       "|Hamilton Township...|     88665|          162|     1|  10|     85|                66|          1516|     320|         1108|                 88|    5|\n",
       "|           Irvington|     54430|          509|     4|  25|    284|               196|          1258|     332|          559|                367|   17|\n",
       "|         Jersey City|    266179|         1276|    24|  86|    547|               619|          4483|     953|         2979|                551|   40|\n",
       "|   Lakewood Township|    100269|          169|     2|  12|     61|                94|           949|     193|          718|                 38|    7|\n",
       "|           Millville|     28177|          223|     4|  22|     82|               115|          1714|     304|         1352|                 58|    3|\n",
       "|              Newark|    281450|         2637|   100|  99|   1334|              1104|          6308|    1138|         3048|               2122|   41|\n",
       "|       New Brunswick|     57158|          392|     1|  38|    211|               142|          1252|     319|          859|                 74|   15|\n",
       "|              Orange|     30470|          342|    11|  11|    210|               110|           843|     198|          417|                228|    5|\n",
       "+--------------------+----------+-------------+------+----+-------+------------------+--------------+--------+-------------+-------------------+-----+\n",
       "only showing top 20 rows"
      ]
     },
     "execution_count": 22,
     "metadata": {},
     "output_type": "execute_result"
    }
   ],
   "source": [
    "from pyspark.sql.functions import col\n",
    "\n",
    "df.filter(col('Burglary') > 150)"
   ]
  },
  {
   "cell_type": "code",
   "execution_count": 25,
   "metadata": {},
   "outputs": [
    {
     "data": {
      "text/html": [
       "<table border='1'>\n",
       "<tr><th>City</th><th>Population</th><th>Violent Crime</th><th>Murder</th><th>Rape</th><th>Robbery</th><th>Aggravated Assault</th><th>Property Crime</th><th>Burglary</th><th>Larceny-theft</th><th>Motor Vehicle Theft</th><th>Arson</th></tr>\n",
       "<tr><td>Avalon</td><td>1273</td><td>3</td><td>0</td><td>0</td><td>0</td><td>3</td><td>191</td><td>30</td><td>159</td><td>2</td><td>0</td></tr>\n",
       "<tr><td>Belvidere</td><td>2593</td><td>0</td><td>0</td><td>0</td><td>0</td><td>0</td><td>88</td><td>54</td><td>30</td><td>4</td><td>0</td></tr>\n",
       "<tr><td>Bridgeton</td><td>24982</td><td>225</td><td>4</td><td>13</td><td>113</td><td>95</td><td>952</td><td>269</td><td>649</td><td>34</td><td>5</td></tr>\n",
       "<tr><td>Brooklawn</td><td>1919</td><td>20</td><td>0</td><td>4</td><td>8</td><td>8</td><td>209</td><td>34</td><td>167</td><td>8</td><td>0</td></tr>\n",
       "<tr><td>Chesilhurst</td><td>1626</td><td>8</td><td>0</td><td>0</td><td>1</td><td>7</td><td>42</td><td>19</td><td>19</td><td>4</td><td>0</td></tr>\n",
       "<tr><td>Clementon</td><td>4913</td><td>14</td><td>0</td><td>1</td><td>9</td><td>4</td><td>169</td><td>59</td><td>104</td><td>6</td><td>1</td></tr>\n",
       "<tr><td>Deal</td><td>735</td><td>1</td><td>0</td><td>0</td><td>0</td><td>1</td><td>32</td><td>9</td><td>23</td><td>0</td><td>0</td></tr>\n",
       "<tr><td>Loch Arbour</td><td>186</td><td>0</td><td>0</td><td>0</td><td>0</td><td>0</td><td>9</td><td>3</td><td>6</td><td>0</td><td>0</td></tr>\n",
       "<tr><td>Millville</td><td>28177</td><td>223</td><td>4</td><td>22</td><td>82</td><td>115</td><td>1714</td><td>304</td><td>1352</td><td>58</td><td>3</td></tr>\n",
       "<tr><td>Runnemede</td><td>8322</td><td>10</td><td>0</td><td>1</td><td>4</td><td>5</td><td>358</td><td>145</td><td>199</td><td>14</td><td>0</td></tr>\n",
       "<tr><td>Salem</td><td>4849</td><td>53</td><td>3</td><td>3</td><td>16</td><td>31</td><td>178</td><td>74</td><td>95</td><td>9</td><td>2</td></tr>\n",
       "<tr><td>Sea Isle City</td><td>2080</td><td>3</td><td>0</td><td>0</td><td>2</td><td>1</td><td>244</td><td>61</td><td>181</td><td>2</td><td>0</td></tr>\n",
       "<tr><td>Seaside Heights</td><td>2886</td><td>26</td><td>0</td><td>0</td><td>5</td><td>21</td><td>173</td><td>29</td><td>139</td><td>5</td><td>0</td></tr>\n",
       "<tr><td>Stone Harbor</td><td>830</td><td>2</td><td>0</td><td>0</td><td>0</td><td>2</td><td>99</td><td>18</td><td>81</td><td>0</td><td>0</td></tr>\n",
       "<tr><td>Teterboro</td><td>69</td><td>2</td><td>0</td><td>0</td><td>1</td><td>1</td><td>108</td><td>1</td><td>103</td><td>4</td><td>0</td></tr>\n",
       "<tr><td>Trenton</td><td>83644</td><td>1127</td><td>21</td><td>59</td><td>427</td><td>620</td><td>2186</td><td>883</td><td>930</td><td>373</td><td>17</td></tr>\n",
       "<tr><td>West Wildwood</td><td>566</td><td>2</td><td>0</td><td>0</td><td>0</td><td>2</td><td>18</td><td>8</td><td>9</td><td>1</td><td>0</td></tr>\n",
       "<tr><td>Wildwood</td><td>5115</td><td>67</td><td>0</td><td>6</td><td>26</td><td>35</td><td>403</td><td>63</td><td>334</td><td>6</td><td>2</td></tr>\n",
       "<tr><td>Wildwood Crest</td><td>3162</td><td>15</td><td>0</td><td>2</td><td>1</td><td>12</td><td>108</td><td>32</td><td>74</td><td>2</td><td>0</td></tr>\n",
       "</table>\n"
      ],
      "text/plain": [
       "+---------------+----------+-------------+------+----+-------+------------------+--------------+--------+-------------+-------------------+-----+\n",
       "|           City|Population|Violent Crime|Murder|Rape|Robbery|Aggravated Assault|Property Crime|Burglary|Larceny-theft|Motor Vehicle Theft|Arson|\n",
       "+---------------+----------+-------------+------+----+-------+------------------+--------------+--------+-------------+-------------------+-----+\n",
       "|         Avalon|      1273|            3|     0|   0|      0|                 3|           191|      30|          159|                  2|    0|\n",
       "|      Belvidere|      2593|            0|     0|   0|      0|                 0|            88|      54|           30|                  4|    0|\n",
       "|      Bridgeton|     24982|          225|     4|  13|    113|                95|           952|     269|          649|                 34|    5|\n",
       "|      Brooklawn|      1919|           20|     0|   4|      8|                 8|           209|      34|          167|                  8|    0|\n",
       "|    Chesilhurst|      1626|            8|     0|   0|      1|                 7|            42|      19|           19|                  4|    0|\n",
       "|      Clementon|      4913|           14|     0|   1|      9|                 4|           169|      59|          104|                  6|    1|\n",
       "|           Deal|       735|            1|     0|   0|      0|                 1|            32|       9|           23|                  0|    0|\n",
       "|    Loch Arbour|       186|            0|     0|   0|      0|                 0|             9|       3|            6|                  0|    0|\n",
       "|      Millville|     28177|          223|     4|  22|     82|               115|          1714|     304|         1352|                 58|    3|\n",
       "|      Runnemede|      8322|           10|     0|   1|      4|                 5|           358|     145|          199|                 14|    0|\n",
       "|          Salem|      4849|           53|     3|   3|     16|                31|           178|      74|           95|                  9|    2|\n",
       "|  Sea Isle City|      2080|            3|     0|   0|      2|                 1|           244|      61|          181|                  2|    0|\n",
       "|Seaside Heights|      2886|           26|     0|   0|      5|                21|           173|      29|          139|                  5|    0|\n",
       "|   Stone Harbor|       830|            2|     0|   0|      0|                 2|            99|      18|           81|                  0|    0|\n",
       "|      Teterboro|        69|            2|     0|   0|      1|                 1|           108|       1|          103|                  4|    0|\n",
       "|        Trenton|     83644|         1127|    21|  59|    427|               620|          2186|     883|          930|                373|   17|\n",
       "|  West Wildwood|       566|            2|     0|   0|      0|                 2|            18|       8|            9|                  1|    0|\n",
       "|       Wildwood|      5115|           67|     0|   6|     26|                35|           403|      63|          334|                  6|    2|\n",
       "| Wildwood Crest|      3162|           15|     0|   2|      1|                12|           108|      32|           74|                  2|    0|\n",
       "+---------------+----------+-------------+------+----+-------+------------------+--------------+--------+-------------+-------------------+-----+"
      ]
     },
     "execution_count": 25,
     "metadata": {},
     "output_type": "execute_result"
    }
   ],
   "source": [
    "df.filter((col('Burglary') / col('Population')) > 0.01)"
   ]
  },
  {
   "cell_type": "code",
   "execution_count": 28,
   "metadata": {},
   "outputs": [
    {
     "data": {
      "text/html": [
       "<table border='1'>\n",
       "<tr><th>City</th><th>Population</th><th>Violent Crime</th><th>Murder</th><th>Rape</th><th>Robbery</th><th>Aggravated Assault</th><th>Property Crime</th><th>Burglary</th><th>Larceny-theft</th><th>Motor Vehicle Theft</th><th>Arson</th><th>Burglary Rate</th></tr>\n",
       "<tr><td>Seaside Heights</td><td>2886</td><td>26</td><td>0</td><td>0</td><td>5</td><td>21</td><td>173</td><td>29</td><td>139</td><td>5</td><td>0</td><td>0.010048510048510048</td></tr>\n",
       "<tr><td>Wildwood Crest</td><td>3162</td><td>15</td><td>0</td><td>2</td><td>1</td><td>12</td><td>108</td><td>32</td><td>74</td><td>2</td><td>0</td><td>0.010120177103099304</td></tr>\n",
       "<tr><td>Trenton</td><td>83644</td><td>1127</td><td>21</td><td>59</td><td>427</td><td>620</td><td>2186</td><td>883</td><td>930</td><td>373</td><td>17</td><td>0.010556644828080915</td></tr>\n",
       "<tr><td>Bridgeton</td><td>24982</td><td>225</td><td>4</td><td>13</td><td>113</td><td>95</td><td>952</td><td>269</td><td>649</td><td>34</td><td>5</td><td>0.010767752782003042</td></tr>\n",
       "<tr><td>Millville</td><td>28177</td><td>223</td><td>4</td><td>22</td><td>82</td><td>115</td><td>1714</td><td>304</td><td>1352</td><td>58</td><td>3</td><td>0.01078894133513149</td></tr>\n",
       "<tr><td>Chesilhurst</td><td>1626</td><td>8</td><td>0</td><td>0</td><td>1</td><td>7</td><td>42</td><td>19</td><td>19</td><td>4</td><td>0</td><td>0.011685116851168511</td></tr>\n",
       "<tr><td>Clementon</td><td>4913</td><td>14</td><td>0</td><td>1</td><td>9</td><td>4</td><td>169</td><td>59</td><td>104</td><td>6</td><td>1</td><td>0.012008955831467535</td></tr>\n",
       "<tr><td>Deal</td><td>735</td><td>1</td><td>0</td><td>0</td><td>0</td><td>1</td><td>32</td><td>9</td><td>23</td><td>0</td><td>0</td><td>0.012244897959183673</td></tr>\n",
       "<tr><td>Wildwood</td><td>5115</td><td>67</td><td>0</td><td>6</td><td>26</td><td>35</td><td>403</td><td>63</td><td>334</td><td>6</td><td>2</td><td>0.012316715542521995</td></tr>\n",
       "<tr><td>West Wildwood</td><td>566</td><td>2</td><td>0</td><td>0</td><td>0</td><td>2</td><td>18</td><td>8</td><td>9</td><td>1</td><td>0</td><td>0.014134275618374558</td></tr>\n",
       "<tr><td>Teterboro</td><td>69</td><td>2</td><td>0</td><td>0</td><td>1</td><td>1</td><td>108</td><td>1</td><td>103</td><td>4</td><td>0</td><td>0.014492753623188406</td></tr>\n",
       "<tr><td>Salem</td><td>4849</td><td>53</td><td>3</td><td>3</td><td>16</td><td>31</td><td>178</td><td>74</td><td>95</td><td>9</td><td>2</td><td>0.015260878531656011</td></tr>\n",
       "<tr><td>Loch Arbour</td><td>186</td><td>0</td><td>0</td><td>0</td><td>0</td><td>0</td><td>9</td><td>3</td><td>6</td><td>0</td><td>0</td><td>0.016129032258064516</td></tr>\n",
       "<tr><td>Runnemede</td><td>8322</td><td>10</td><td>0</td><td>1</td><td>4</td><td>5</td><td>358</td><td>145</td><td>199</td><td>14</td><td>0</td><td>0.01742369622686854</td></tr>\n",
       "<tr><td>Brooklawn</td><td>1919</td><td>20</td><td>0</td><td>4</td><td>8</td><td>8</td><td>209</td><td>34</td><td>167</td><td>8</td><td>0</td><td>0.01771756122980719</td></tr>\n",
       "<tr><td>Belvidere</td><td>2593</td><td>0</td><td>0</td><td>0</td><td>0</td><td>0</td><td>88</td><td>54</td><td>30</td><td>4</td><td>0</td><td>0.02082529888160432</td></tr>\n",
       "<tr><td>Stone Harbor</td><td>830</td><td>2</td><td>0</td><td>0</td><td>0</td><td>2</td><td>99</td><td>18</td><td>81</td><td>0</td><td>0</td><td>0.021686746987951807</td></tr>\n",
       "<tr><td>Avalon</td><td>1273</td><td>3</td><td>0</td><td>0</td><td>0</td><td>3</td><td>191</td><td>30</td><td>159</td><td>2</td><td>0</td><td>0.02356637863315004</td></tr>\n",
       "<tr><td>Sea Isle City</td><td>2080</td><td>3</td><td>0</td><td>0</td><td>2</td><td>1</td><td>244</td><td>61</td><td>181</td><td>2</td><td>0</td><td>0.029326923076923077</td></tr>\n",
       "</table>\n"
      ],
      "text/plain": [
       "+---------------+----------+-------------+------+----+-------+------------------+--------------+--------+-------------+-------------------+-----+--------------------+\n",
       "|           City|Population|Violent Crime|Murder|Rape|Robbery|Aggravated Assault|Property Crime|Burglary|Larceny-theft|Motor Vehicle Theft|Arson|       Burglary Rate|\n",
       "+---------------+----------+-------------+------+----+-------+------------------+--------------+--------+-------------+-------------------+-----+--------------------+\n",
       "|Seaside Heights|      2886|           26|     0|   0|      5|                21|           173|      29|          139|                  5|    0|0.010048510048510048|\n",
       "| Wildwood Crest|      3162|           15|     0|   2|      1|                12|           108|      32|           74|                  2|    0|0.010120177103099304|\n",
       "|        Trenton|     83644|         1127|    21|  59|    427|               620|          2186|     883|          930|                373|   17|0.010556644828080915|\n",
       "|      Bridgeton|     24982|          225|     4|  13|    113|                95|           952|     269|          649|                 34|    5|0.010767752782003042|\n",
       "|      Millville|     28177|          223|     4|  22|     82|               115|          1714|     304|         1352|                 58|    3| 0.01078894133513149|\n",
       "|    Chesilhurst|      1626|            8|     0|   0|      1|                 7|            42|      19|           19|                  4|    0|0.011685116851168511|\n",
       "|      Clementon|      4913|           14|     0|   1|      9|                 4|           169|      59|          104|                  6|    1|0.012008955831467535|\n",
       "|           Deal|       735|            1|     0|   0|      0|                 1|            32|       9|           23|                  0|    0|0.012244897959183673|\n",
       "|       Wildwood|      5115|           67|     0|   6|     26|                35|           403|      63|          334|                  6|    2|0.012316715542521995|\n",
       "|  West Wildwood|       566|            2|     0|   0|      0|                 2|            18|       8|            9|                  1|    0|0.014134275618374558|\n",
       "|      Teterboro|        69|            2|     0|   0|      1|                 1|           108|       1|          103|                  4|    0|0.014492753623188406|\n",
       "|          Salem|      4849|           53|     3|   3|     16|                31|           178|      74|           95|                  9|    2|0.015260878531656011|\n",
       "|    Loch Arbour|       186|            0|     0|   0|      0|                 0|             9|       3|            6|                  0|    0|0.016129032258064516|\n",
       "|      Runnemede|      8322|           10|     0|   1|      4|                 5|           358|     145|          199|                 14|    0| 0.01742369622686854|\n",
       "|      Brooklawn|      1919|           20|     0|   4|      8|                 8|           209|      34|          167|                  8|    0| 0.01771756122980719|\n",
       "|      Belvidere|      2593|            0|     0|   0|      0|                 0|            88|      54|           30|                  4|    0| 0.02082529888160432|\n",
       "|   Stone Harbor|       830|            2|     0|   0|      0|                 2|            99|      18|           81|                  0|    0|0.021686746987951807|\n",
       "|         Avalon|      1273|            3|     0|   0|      0|                 3|           191|      30|          159|                  2|    0| 0.02356637863315004|\n",
       "|  Sea Isle City|      2080|            3|     0|   0|      2|                 1|           244|      61|          181|                  2|    0|0.029326923076923077|\n",
       "+---------------+----------+-------------+------+----+-------+------------------+--------------+--------+-------------+-------------------+-----+--------------------+"
      ]
     },
     "execution_count": 28,
     "metadata": {},
     "output_type": "execute_result"
    }
   ],
   "source": [
    "df2 = df.withColumn('Burglary Rate', (col('Burglary') / col('Population')))\n",
    "df2.filter(col('Burglary Rate') > 0.01).orderBy(col('Burglary Rate'), )"
   ]
  }
 ],
 "metadata": {
  "kernelspec": {
   "display_name": "Python 3",
   "language": "python",
   "name": "python3"
  },
  "language_info": {
   "codemirror_mode": {
    "name": "ipython",
    "version": 3
   },
   "file_extension": ".py",
   "mimetype": "text/x-python",
   "name": "python",
   "nbconvert_exporter": "python",
   "pygments_lexer": "ipython3",
   "version": "3.7.4"
  }
 },
 "nbformat": 4,
 "nbformat_minor": 1
}
